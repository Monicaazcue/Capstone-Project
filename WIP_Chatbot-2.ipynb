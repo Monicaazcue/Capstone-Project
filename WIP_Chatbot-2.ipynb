{
  "nbformat": 4,
  "nbformat_minor": 0,
  "metadata": {
    "colab": {
      "provenance": []
    },
    "kernelspec": {
      "name": "python3",
      "display_name": "Python 3"
    },
    "language_info": {
      "name": "python"
    }
  },
  "cells": [
    {
      "cell_type": "markdown",
      "source": [
        "# CHATBOT CREATION FOR LUXURY WELLBEING CENTER - DATA CAPSTONE"
      ],
      "metadata": {
        "id": "faTTC8wLM_QI"
      }
    },
    {
      "cell_type": "code",
      "execution_count": null,
      "metadata": {
        "colab": {
          "base_uri": "https://localhost:8080/"
        },
        "id": "NLIhxdffXFa2",
        "outputId": "a43ff775-4ed3-4137-8eb4-66668180c2d8"
      },
      "outputs": [
        {
          "output_type": "stream",
          "name": "stdout",
          "text": [
            "Chatbot: Hi there! I can help you learn more about our services, book appointments, and provide information. What are you interested in today? Type 'Services' to see what we offer, 'Book' to schedule an appointment, or ask a specific question.\n",
            "Chatbot: We offer various services like Advanced Preventive Diagnosis, SHA Healthy Nutrition, and Well Ageing Medicine among others. Which one would you like to know more about?\n",
            "Chatbot: SHA Healthy Nutrition is based on a balanced diet inspired by ancient principles. It emphasizes local, organic, and seasonal foods. How can I assist you further with this service?\n"
          ]
        }
      ],
      "source": [
        "def chatbot_response(user_input):\n",
        "    user_input = user_input.lower()\n",
        "\n",
        "    if 'hello' in user_input or 'hi' in user_input:\n",
        "        return \"Hi there! I can help you learn more about our services, book appointments, and provide information. What are you interested in today? Type 'Services' to see what we offer, 'Book' to schedule an appointment, or ask a specific question.\"\n",
        "\n",
        "    elif 'services' in user_input:\n",
        "        return \"We offer various services like Advanced Preventive Diagnosis, SHA Healthy Nutrition, and Well Ageing Medicine among others. Which one would you like to know more about?\"\n",
        "\n",
        "    elif 'advanced preventive diagnosis' in user_input:\n",
        "        return \"Our Advanced Preventive Diagnosis includes innovative medical tests and cutting-edge diagnostic screenings. Would you like to book this service or learn more about it?\"\n",
        "\n",
        "    elif 'sha healthy nutrition' in user_input:\n",
        "        return \"SHA Healthy Nutrition is based on a balanced diet inspired by ancient principles. It emphasizes local, organic, and seasonal foods. How can I assist you further with this service?\"\n",
        "\n",
        "    elif 'well ageing medicine' in user_input:\n",
        "        return \"Well Ageing Medicine focuses on delaying the ageing process and improving quality of life through various treatments. Do you want to book a consultation or get more information?\"\n",
        "\n",
        "    elif 'book' in user_input:\n",
        "        return \"Great! Please provide the service you're interested in booking and your preferred date and time.\"\n",
        "\n",
        "    else:\n",
        "        return \"I'm not sure how to respond to that. Can you try asking something else, or would you like to know about our services or book an appointment?\"\n",
        "\n",
        "# Example interaction\n",
        "print(\"Chatbot: \" + chatbot_response(\"hi\"))\n",
        "print(\"Chatbot: \" + chatbot_response(\"what services do you offer\"))\n",
        "print(\"Chatbot: \" + chatbot_response(\"tell me more about sha healthy nutrition\"))\n"
      ]
    },
    {
      "cell_type": "markdown",
      "source": [
        "\n",
        "\n",
        "### Step 1: Define the Data Structure\n",
        "\n",
        "First, let's define a simple way to store information about the services. In a real application, this data would likely come from a database or an external API.\n",
        "\n",
        "```python\n",
        "services = {\n",
        "    \"advanced_preventive_diagnosis\": {\n",
        "        \"description\": \"Cutting-edge diagnostic screenings for a comprehensive health overview.\",\n",
        "        \"tools\": [\"MRI\", \"CT scans\", \"Genetic Testing\"],\n",
        "        \"price\": \"Starting at $2,500\"\n",
        "    },\n",
        "    \"sha_healthy_nutrition\": {\n",
        "        \"description\": \"Personalized nutritional plans based on ancient principles and modern science.\",\n",
        "        \"tools\": [\"Nutritional Assessment\", \"Custom Meal Plans\", \"Dietary Supplements\"],\n",
        "        \"price\": \"Packages from $1,500\"\n",
        "    },\n",
        "    \"well_ageing_medicine\": {\n",
        "        \"description\": \"Innovative treatments to delay ageing and enhance quality of life.\",\n",
        "        \"tools\": [\"Biochemical Analysis\", \"Lifestyle Counseling\", \"Age Management Programs\"],\n",
        "        \"price\": \"Consultation from $1,000\"\n",
        "    }\n",
        "}\n",
        "```\n",
        "\n",
        "### Step 2: Expand the Chatbot Logic\n",
        "\n",
        "Now, let's expand the chatbot logic to handle queries about specific services, including providing descriptions, tools involved, and pricing information.\n",
        "\n",
        "```python\n",
        "def chatbot_response(user_input):\n",
        "    user_input = user_input.lower()\n",
        "    \n",
        "    # Handling specific service inquiries\n",
        "    for service_key, service_info in services.items():\n",
        "        if service_key.replace(\"_\", \" \") in user_input:\n",
        "            response = f\"{service_info['description']} Tools used include: {', '.join(service_info['tools'])}. Pricing: {service_info['price']}. Would you like to book this service or learn more?\"\n",
        "            return response\n",
        "    \n",
        "    # General inquiries\n",
        "    if 'services' in user_input:\n",
        "        service_list = \", \".join([s.replace(\"_\", \" \") for s in services.keys()])\n",
        "        return f\"We offer services such as {service_list}. Which one are you interested in?\"\n",
        "    \n",
        "    # Booking\n",
        "    elif 'book' in user_input:\n",
        "        return \"I can help you book a service. Please mention the service name you're interested in.\"\n",
        "    \n",
        "    # Default response\n",
        "    else:\n",
        "        return \"I'm not sure how to respond to that. Can you try asking something else, or would you like to know about our services?\"\n",
        "\n",
        "# Example interaction\n",
        "print(chatbot_response(\"Tell me about sha healthy nutrition\"))\n",
        "print(chatbot_response(\"I want to book advanced preventive diagnosis\"))\n",
        "```\n",
        "\n",
        "### Step 3: Implementation Considerations\n",
        "\n",
        "- **Database or API Integration:** to provide specific details based on the current offerings, prices, and tools.\n",
        "  \n",
        "- **Natural Language Processing (NLP):** This part will use the implementation NLP capabilities using libraries such as `NLTK` in Python or integrating with AI platforms like Dialogflow or Microsoft Bot Framework for more sophisticated understanding and processing of user queries.\n",
        "\n",
        "- **User Interface:** Create a chatbot interface in the app is user-friendly, providing clear options and guidance on how users can interact with the chatbot to get the information they need or book services.\n",
        "\n"
      ],
      "metadata": {
        "id": "r5UyVcK6bXoL"
      }
    }
  ]
}